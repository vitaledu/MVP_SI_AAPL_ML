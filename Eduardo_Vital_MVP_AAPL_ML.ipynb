{
  "cells": [
    {
      "cell_type": "markdown",
      "metadata": {
        "id": "otEdveLq8Hn0"
      },
      "source": [
        "## ML - Análise das Ações da Apple\n",
        "## Autor: Eduardo Lima Vital\n",
        "\n",
        "#Análise do Comportamento das Ações da Apple\n",
        "\n",
        "Este notebook tem como objetivo analisar o histórico de preços das ações da Apple, identificando padrões de comportamento como crescimento, queda ou estabilidade. Utilizaremos técnicas de machine learning para criar um modelo capaz de classificar os movimentos das ações com base nos dados de alta, baixa e variação.\n",
        "\n",
        "## Contexto do Problema\n",
        "Investir no mercado de ações exige uma compreensão profunda do comportamento dos preços. Neste projeto, exploramos como os algoritmos de machine learning podem ser aplicados para prever tendências nas ações da Apple. Para isso, seguimos as etapas fundamentais da Engenharia de Sistemas de Software Inteligentes, aprendidas na disciplina correspondente.\n",
        "\n",
        "## Etapas do Projeto\n",
        "Carga e Tratamento dos Dados: Os dados históricos das ações da Apple foram carregados e pré-processados para remover valores nulos e possíveis outliers que poderiam distorcer a análise.\n",
        "\n",
        "Separação entre Treino e Teste (Holdout): Dividimos os dados em conjuntos de treino e teste para avaliar o desempenho do modelo.\n",
        "\n",
        "Transformação de Dados: Normalizamos e padronizamos os dados para garantir que todas as features tenham a mesma escala e contribuam igualmente para o modelo.\n",
        "\n",
        "Modelagem: Utilizamos diferentes algoritmos de machine learning - KNN, Árvore de Classificação, Naive Bayes e SVM - para treinar modelos de classificação com os dados.\n",
        "\n",
        "Otimização de Hiperparâmetros: Buscamos os melhores hiperparâmetros para cada algoritmo usando técnicas de otimização.\n",
        "\n",
        "Avaliação e Comparação de Modelos: Avaliamos a performance dos modelos usando métricas apropriadas e comparamos os resultados para determinar o mais eficaz.\n",
        "\n",
        "Exportação do Modelo: Finalmente, exportamos o modelo resultante para utilização futura.\n",
        "\n",
        "## Implementação em Python com Scikit-Learn\n",
        "Todo o código foi desenvolvido em Python utilizando a biblioteca Scikit-Learn para construção dos modelos de machine learning. Além disso, foram aplicadas boas práticas de codificação, seguindo os conceitos da disciplina de Programação Orientada a Objetos para garantir a legibilidade e manutenibilidade do código.\n",
        "\n",
        "Este notebook serve como um relatório detalhado das etapas seguidas, oferecendo uma visão clara do processo de resolução do problema, desde a análise exploratória dos dados até a construção e avaliação dos modelos.\n",
        "\n",
        "Esse texto pode ser utilizado como introdução para o notebook no Google Colab, fornecendo uma visão geral do objetivo, do contexto do problema e das etapas realizadas no projeto de análise das ações da Apple.\n",
        "\n",
        "---\n",
        "\n"
      ]
    },
    {
      "cell_type": "code",
      "execution_count": null,
      "metadata": {
        "id": "RCn8CH4M7wF-"
      },
      "outputs": [],
      "source": [
        "# configuração para não exibir os warnings\n",
        "import warnings\n",
        "warnings.filterwarnings(\"ignore\")\n",
        "\n",
        "# Imports necessários\n",
        "import pandas as pd\n",
        "import numpy as np\n",
        "import matplotlib.pyplot as plt\n",
        "from sklearn.preprocessing import StandardScaler\n",
        "from sklearn.preprocessing import MinMaxScaler\n",
        "from sklearn.model_selection import train_test_split\n",
        "from sklearn.model_selection import KFold\n",
        "from sklearn.model_selection import StratifiedKFold\n",
        "from sklearn.model_selection import cross_val_score\n",
        "from sklearn.model_selection import GridSearchCV\n",
        "from sklearn.metrics import accuracy_score\n",
        "from sklearn.pipeline import Pipeline\n",
        "from sklearn.tree import DecisionTreeClassifier\n",
        "# Machine Learning\n",
        "from sklearn.neighbors import KNeighborsClassifier\n",
        "from sklearn.naive_bayes import GaussianNB\n",
        "from sklearn.svm import SVC"
      ]
    },
    {
      "cell_type": "markdown",
      "metadata": {
        "id": "2PcB0Efd-MS4"
      },
      "source": [
        "## Carga do Dataset"
      ]
    },
    {
      "cell_type": "code",
      "execution_count": null,
      "metadata": {
        "colab": {
          "base_uri": "https://localhost:8080/",
          "height": 1000
        },
        "id": "29AFuCPtvG_i",
        "outputId": "d4671610-c914-4834-9dbd-18f4962e0e1b"
      },
      "outputs": [
        {
          "data": {
            "text/html": [
              "\n",
              "  <div id=\"df-7b3c5ed0-42ab-4db5-8604-fcf7a51366f5\" class=\"colab-df-container\">\n",
              "    <div>\n",
              "<style scoped>\n",
              "    .dataframe tbody tr th:only-of-type {\n",
              "        vertical-align: middle;\n",
              "    }\n",
              "\n",
              "    .dataframe tbody tr th {\n",
              "        vertical-align: top;\n",
              "    }\n",
              "\n",
              "    .dataframe thead th {\n",
              "        text-align: right;\n",
              "    }\n",
              "</style>\n",
              "<table border=\"1\" class=\"dataframe\">\n",
              "  <thead>\n",
              "    <tr style=\"text-align: right;\">\n",
              "      <th></th>\n",
              "      <th>Date</th>\n",
              "      <th>Open</th>\n",
              "      <th>High</th>\n",
              "      <th>Low</th>\n",
              "      <th>Close</th>\n",
              "      <th>Adj Close</th>\n",
              "      <th>Volume</th>\n",
              "    </tr>\n",
              "  </thead>\n",
              "  <tbody>\n",
              "    <tr>\n",
              "      <th>0</th>\n",
              "      <td>2000-01-03</td>\n",
              "      <td>0.936384</td>\n",
              "      <td>1.004464</td>\n",
              "      <td>0.907924</td>\n",
              "      <td>0.999442</td>\n",
              "      <td>0.847207</td>\n",
              "      <td>1</td>\n",
              "    </tr>\n",
              "    <tr>\n",
              "      <th>1</th>\n",
              "      <td>2000-01-04</td>\n",
              "      <td>0.966518</td>\n",
              "      <td>0.987723</td>\n",
              "      <td>0.903460</td>\n",
              "      <td>0.915179</td>\n",
              "      <td>0.775779</td>\n",
              "      <td>1</td>\n",
              "    </tr>\n",
              "    <tr>\n",
              "      <th>2</th>\n",
              "      <td>2000-01-05</td>\n",
              "      <td>0.926339</td>\n",
              "      <td>0.987165</td>\n",
              "      <td>0.919643</td>\n",
              "      <td>0.928571</td>\n",
              "      <td>0.787131</td>\n",
              "      <td>1</td>\n",
              "    </tr>\n",
              "    <tr>\n",
              "      <th>3</th>\n",
              "      <td>2000-01-06</td>\n",
              "      <td>0.947545</td>\n",
              "      <td>0.955357</td>\n",
              "      <td>0.848214</td>\n",
              "      <td>0.848214</td>\n",
              "      <td>0.719014</td>\n",
              "      <td>1</td>\n",
              "    </tr>\n",
              "    <tr>\n",
              "      <th>4</th>\n",
              "      <td>2000-01-07</td>\n",
              "      <td>0.861607</td>\n",
              "      <td>0.901786</td>\n",
              "      <td>0.852679</td>\n",
              "      <td>0.888393</td>\n",
              "      <td>0.753073</td>\n",
              "      <td>1</td>\n",
              "    </tr>\n",
              "    <tr>\n",
              "      <th>5</th>\n",
              "      <td>2000-01-10</td>\n",
              "      <td>0.910714</td>\n",
              "      <td>0.912946</td>\n",
              "      <td>0.845982</td>\n",
              "      <td>0.872768</td>\n",
              "      <td>0.739828</td>\n",
              "      <td>1</td>\n",
              "    </tr>\n",
              "    <tr>\n",
              "      <th>6</th>\n",
              "      <td>2000-01-11</td>\n",
              "      <td>0.856585</td>\n",
              "      <td>0.887277</td>\n",
              "      <td>0.808036</td>\n",
              "      <td>0.828125</td>\n",
              "      <td>0.701985</td>\n",
              "      <td>1</td>\n",
              "    </tr>\n",
              "    <tr>\n",
              "      <th>7</th>\n",
              "      <td>2000-01-12</td>\n",
              "      <td>0.848214</td>\n",
              "      <td>0.852679</td>\n",
              "      <td>0.772321</td>\n",
              "      <td>0.778460</td>\n",
              "      <td>0.659885</td>\n",
              "      <td>1</td>\n",
              "    </tr>\n",
              "    <tr>\n",
              "      <th>8</th>\n",
              "      <td>2000-01-13</td>\n",
              "      <td>0.843610</td>\n",
              "      <td>0.881696</td>\n",
              "      <td>0.825893</td>\n",
              "      <td>0.863839</td>\n",
              "      <td>0.732259</td>\n",
              "      <td>1</td>\n",
              "    </tr>\n",
              "    <tr>\n",
              "      <th>9</th>\n",
              "      <td>2000-01-14</td>\n",
              "      <td>0.892857</td>\n",
              "      <td>0.912946</td>\n",
              "      <td>0.887277</td>\n",
              "      <td>0.896763</td>\n",
              "      <td>0.760168</td>\n",
              "      <td>0</td>\n",
              "    </tr>\n",
              "    <tr>\n",
              "      <th>10</th>\n",
              "      <td>2000-01-18</td>\n",
              "      <td>0.901786</td>\n",
              "      <td>0.946429</td>\n",
              "      <td>0.896763</td>\n",
              "      <td>0.928013</td>\n",
              "      <td>0.786658</td>\n",
              "      <td>1</td>\n",
              "    </tr>\n",
              "    <tr>\n",
              "      <th>11</th>\n",
              "      <td>2000-01-19</td>\n",
              "      <td>0.943080</td>\n",
              "      <td>0.970982</td>\n",
              "      <td>0.922991</td>\n",
              "      <td>0.951451</td>\n",
              "      <td>0.806526</td>\n",
              "      <td>1</td>\n",
              "    </tr>\n",
              "    <tr>\n",
              "      <th>12</th>\n",
              "      <td>2000-01-20</td>\n",
              "      <td>1.031250</td>\n",
              "      <td>1.084821</td>\n",
              "      <td>1.013393</td>\n",
              "      <td>1.013393</td>\n",
              "      <td>0.859033</td>\n",
              "      <td>1</td>\n",
              "    </tr>\n",
              "    <tr>\n",
              "      <th>13</th>\n",
              "      <td>2000-01-21</td>\n",
              "      <td>1.020089</td>\n",
              "      <td>1.020089</td>\n",
              "      <td>0.983817</td>\n",
              "      <td>0.993862</td>\n",
              "      <td>0.842477</td>\n",
              "      <td>1</td>\n",
              "    </tr>\n",
              "    <tr>\n",
              "      <th>14</th>\n",
              "      <td>2000-01-24</td>\n",
              "      <td>0.968192</td>\n",
              "      <td>1.006696</td>\n",
              "      <td>0.938616</td>\n",
              "      <td>0.948661</td>\n",
              "      <td>0.804161</td>\n",
              "      <td>1</td>\n",
              "    </tr>\n",
              "    <tr>\n",
              "      <th>15</th>\n",
              "      <td>2000-01-25</td>\n",
              "      <td>0.937500</td>\n",
              "      <td>1.010045</td>\n",
              "      <td>0.914063</td>\n",
              "      <td>1.002232</td>\n",
              "      <td>0.849572</td>\n",
              "      <td>1</td>\n",
              "    </tr>\n",
              "    <tr>\n",
              "      <th>16</th>\n",
              "      <td>2000-01-26</td>\n",
              "      <td>0.982143</td>\n",
              "      <td>1.019531</td>\n",
              "      <td>0.979911</td>\n",
              "      <td>0.983817</td>\n",
              "      <td>0.833962</td>\n",
              "      <td>0</td>\n",
              "    </tr>\n",
              "    <tr>\n",
              "      <th>17</th>\n",
              "      <td>2000-01-27</td>\n",
              "      <td>0.971540</td>\n",
              "      <td>1.008929</td>\n",
              "      <td>0.955357</td>\n",
              "      <td>0.982143</td>\n",
              "      <td>0.832543</td>\n",
              "      <td>0</td>\n",
              "    </tr>\n",
              "    <tr>\n",
              "      <th>18</th>\n",
              "      <td>2000-01-28</td>\n",
              "      <td>0.965960</td>\n",
              "      <td>0.989955</td>\n",
              "      <td>0.898438</td>\n",
              "      <td>0.907366</td>\n",
              "      <td>0.769156</td>\n",
              "      <td>1</td>\n",
              "    </tr>\n",
              "    <tr>\n",
              "      <th>19</th>\n",
              "      <td>2000-01-31</td>\n",
              "      <td>0.901786</td>\n",
              "      <td>0.927455</td>\n",
              "      <td>0.843750</td>\n",
              "      <td>0.926339</td>\n",
              "      <td>0.785239</td>\n",
              "      <td>1</td>\n",
              "    </tr>\n",
              "    <tr>\n",
              "      <th>20</th>\n",
              "      <td>2000-02-01</td>\n",
              "      <td>0.928571</td>\n",
              "      <td>0.937500</td>\n",
              "      <td>0.892857</td>\n",
              "      <td>0.895089</td>\n",
              "      <td>0.758749</td>\n",
              "      <td>0</td>\n",
              "    </tr>\n",
              "    <tr>\n",
              "      <th>21</th>\n",
              "      <td>2000-02-02</td>\n",
              "      <td>0.899554</td>\n",
              "      <td>0.911830</td>\n",
              "      <td>0.866071</td>\n",
              "      <td>0.882254</td>\n",
              "      <td>0.747869</td>\n",
              "      <td>1</td>\n",
              "    </tr>\n",
              "    <tr>\n",
              "      <th>22</th>\n",
              "      <td>2000-02-03</td>\n",
              "      <td>0.895647</td>\n",
              "      <td>0.930804</td>\n",
              "      <td>0.895089</td>\n",
              "      <td>0.922433</td>\n",
              "      <td>0.781928</td>\n",
              "      <td>1</td>\n",
              "    </tr>\n",
              "    <tr>\n",
              "      <th>23</th>\n",
              "      <td>2000-02-04</td>\n",
              "      <td>0.928013</td>\n",
              "      <td>0.982143</td>\n",
              "      <td>0.925223</td>\n",
              "      <td>0.964286</td>\n",
              "      <td>0.817406</td>\n",
              "      <td>1</td>\n",
              "    </tr>\n",
              "    <tr>\n",
              "      <th>24</th>\n",
              "      <td>2000-02-07</td>\n",
              "      <td>0.964286</td>\n",
              "      <td>1.020089</td>\n",
              "      <td>0.945871</td>\n",
              "      <td>1.018415</td>\n",
              "      <td>0.863290</td>\n",
              "      <td>1</td>\n",
              "    </tr>\n",
              "    <tr>\n",
              "      <th>25</th>\n",
              "      <td>2000-02-08</td>\n",
              "      <td>1.017857</td>\n",
              "      <td>1.036830</td>\n",
              "      <td>0.993304</td>\n",
              "      <td>1.025670</td>\n",
              "      <td>0.869440</td>\n",
              "      <td>1</td>\n",
              "    </tr>\n",
              "    <tr>\n",
              "      <th>26</th>\n",
              "      <td>2000-02-09</td>\n",
              "      <td>1.018973</td>\n",
              "      <td>1.045759</td>\n",
              "      <td>1.003906</td>\n",
              "      <td>1.005580</td>\n",
              "      <td>0.852410</td>\n",
              "      <td>0</td>\n",
              "    </tr>\n",
              "    <tr>\n",
              "      <th>27</th>\n",
              "      <td>2000-02-10</td>\n",
              "      <td>1.007813</td>\n",
              "      <td>1.016741</td>\n",
              "      <td>0.982143</td>\n",
              "      <td>1.013393</td>\n",
              "      <td>0.859033</td>\n",
              "      <td>0</td>\n",
              "    </tr>\n",
              "    <tr>\n",
              "      <th>28</th>\n",
              "      <td>2000-02-11</td>\n",
              "      <td>1.014509</td>\n",
              "      <td>1.018973</td>\n",
              "      <td>0.966518</td>\n",
              "      <td>0.970982</td>\n",
              "      <td>0.823082</td>\n",
              "      <td>0</td>\n",
              "    </tr>\n",
              "    <tr>\n",
              "      <th>29</th>\n",
              "      <td>2000-02-14</td>\n",
              "      <td>0.976004</td>\n",
              "      <td>1.034598</td>\n",
              "      <td>0.969866</td>\n",
              "      <td>1.034040</td>\n",
              "      <td>0.876535</td>\n",
              "      <td>0</td>\n",
              "    </tr>\n",
              "    <tr>\n",
              "      <th>30</th>\n",
              "      <td>2000-02-15</td>\n",
              "      <td>1.029018</td>\n",
              "      <td>1.070871</td>\n",
              "      <td>1.028460</td>\n",
              "      <td>1.062500</td>\n",
              "      <td>0.900659</td>\n",
              "      <td>1</td>\n",
              "    </tr>\n",
              "    <tr>\n",
              "      <th>31</th>\n",
              "      <td>2000-02-16</td>\n",
              "      <td>1.051339</td>\n",
              "      <td>1.054688</td>\n",
              "      <td>1.001116</td>\n",
              "      <td>1.018973</td>\n",
              "      <td>0.863763</td>\n",
              "      <td>0</td>\n",
              "    </tr>\n",
              "    <tr>\n",
              "      <th>32</th>\n",
              "      <td>2000-02-17</td>\n",
              "      <td>1.028460</td>\n",
              "      <td>1.031250</td>\n",
              "      <td>1.010045</td>\n",
              "      <td>1.025670</td>\n",
              "      <td>0.869440</td>\n",
              "      <td>0</td>\n",
              "    </tr>\n",
              "    <tr>\n",
              "      <th>33</th>\n",
              "      <td>2000-02-18</td>\n",
              "      <td>1.023438</td>\n",
              "      <td>1.030134</td>\n",
              "      <td>0.989955</td>\n",
              "      <td>0.993304</td>\n",
              "      <td>0.842004</td>\n",
              "      <td>0</td>\n",
              "    </tr>\n",
              "    <tr>\n",
              "      <th>34</th>\n",
              "      <td>2000-02-22</td>\n",
              "      <td>0.983259</td>\n",
              "      <td>1.044085</td>\n",
              "      <td>0.952567</td>\n",
              "      <td>1.016183</td>\n",
              "      <td>0.861398</td>\n",
              "      <td>1</td>\n",
              "    </tr>\n",
              "    <tr>\n",
              "      <th>35</th>\n",
              "      <td>2000-02-23</td>\n",
              "      <td>1.011021</td>\n",
              "      <td>1.062500</td>\n",
              "      <td>0.991071</td>\n",
              "      <td>1.037946</td>\n",
              "      <td>0.879846</td>\n",
              "      <td>1</td>\n",
              "    </tr>\n",
              "    <tr>\n",
              "      <th>36</th>\n",
              "      <td>2000-02-24</td>\n",
              "      <td>1.047433</td>\n",
              "      <td>1.063616</td>\n",
              "      <td>0.997768</td>\n",
              "      <td>1.028599</td>\n",
              "      <td>0.871923</td>\n",
              "      <td>0</td>\n",
              "    </tr>\n",
              "    <tr>\n",
              "      <th>37</th>\n",
              "      <td>2000-02-25</td>\n",
              "      <td>1.025112</td>\n",
              "      <td>1.044643</td>\n",
              "      <td>0.983259</td>\n",
              "      <td>0.985491</td>\n",
              "      <td>0.835381</td>\n",
              "      <td>0</td>\n",
              "    </tr>\n",
              "    <tr>\n",
              "      <th>38</th>\n",
              "      <td>2000-02-28</td>\n",
              "      <td>0.983259</td>\n",
              "      <td>1.026786</td>\n",
              "      <td>0.967634</td>\n",
              "      <td>1.011161</td>\n",
              "      <td>0.857141</td>\n",
              "      <td>0</td>\n",
              "    </tr>\n",
              "    <tr>\n",
              "      <th>39</th>\n",
              "      <td>2000-02-29</td>\n",
              "      <td>1.013951</td>\n",
              "      <td>1.046875</td>\n",
              "      <td>1.005022</td>\n",
              "      <td>1.023438</td>\n",
              "      <td>0.867548</td>\n",
              "      <td>0</td>\n",
              "    </tr>\n",
              "  </tbody>\n",
              "</table>\n",
              "</div>\n",
              "    <div class=\"colab-df-buttons\">\n",
              "\n",
              "  <div class=\"colab-df-container\">\n",
              "    <button class=\"colab-df-convert\" onclick=\"convertToInteractive('df-7b3c5ed0-42ab-4db5-8604-fcf7a51366f5')\"\n",
              "            title=\"Convert this dataframe to an interactive table.\"\n",
              "            style=\"display:none;\">\n",
              "\n",
              "  <svg xmlns=\"http://www.w3.org/2000/svg\" height=\"24px\" viewBox=\"0 -960 960 960\">\n",
              "    <path d=\"M120-120v-720h720v720H120Zm60-500h600v-160H180v160Zm220 220h160v-160H400v160Zm0 220h160v-160H400v160ZM180-400h160v-160H180v160Zm440 0h160v-160H620v160ZM180-180h160v-160H180v160Zm440 0h160v-160H620v160Z\"/>\n",
              "  </svg>\n",
              "    </button>\n",
              "\n",
              "  <style>\n",
              "    .colab-df-container {\n",
              "      display:flex;\n",
              "      gap: 12px;\n",
              "    }\n",
              "\n",
              "    .colab-df-convert {\n",
              "      background-color: #E8F0FE;\n",
              "      border: none;\n",
              "      border-radius: 50%;\n",
              "      cursor: pointer;\n",
              "      display: none;\n",
              "      fill: #1967D2;\n",
              "      height: 32px;\n",
              "      padding: 0 0 0 0;\n",
              "      width: 32px;\n",
              "    }\n",
              "\n",
              "    .colab-df-convert:hover {\n",
              "      background-color: #E2EBFA;\n",
              "      box-shadow: 0px 1px 2px rgba(60, 64, 67, 0.3), 0px 1px 3px 1px rgba(60, 64, 67, 0.15);\n",
              "      fill: #174EA6;\n",
              "    }\n",
              "\n",
              "    .colab-df-buttons div {\n",
              "      margin-bottom: 4px;\n",
              "    }\n",
              "\n",
              "    [theme=dark] .colab-df-convert {\n",
              "      background-color: #3B4455;\n",
              "      fill: #D2E3FC;\n",
              "    }\n",
              "\n",
              "    [theme=dark] .colab-df-convert:hover {\n",
              "      background-color: #434B5C;\n",
              "      box-shadow: 0px 1px 3px 1px rgba(0, 0, 0, 0.15);\n",
              "      filter: drop-shadow(0px 1px 2px rgba(0, 0, 0, 0.3));\n",
              "      fill: #FFFFFF;\n",
              "    }\n",
              "  </style>\n",
              "\n",
              "    <script>\n",
              "      const buttonEl =\n",
              "        document.querySelector('#df-7b3c5ed0-42ab-4db5-8604-fcf7a51366f5 button.colab-df-convert');\n",
              "      buttonEl.style.display =\n",
              "        google.colab.kernel.accessAllowed ? 'block' : 'none';\n",
              "\n",
              "      async function convertToInteractive(key) {\n",
              "        const element = document.querySelector('#df-7b3c5ed0-42ab-4db5-8604-fcf7a51366f5');\n",
              "        const dataTable =\n",
              "          await google.colab.kernel.invokeFunction('convertToInteractive',\n",
              "                                                    [key], {});\n",
              "        if (!dataTable) return;\n",
              "\n",
              "        const docLinkHtml = 'Like what you see? Visit the ' +\n",
              "          '<a target=\"_blank\" href=https://colab.research.google.com/notebooks/data_table.ipynb>data table notebook</a>'\n",
              "          + ' to learn more about interactive tables.';\n",
              "        element.innerHTML = '';\n",
              "        dataTable['output_type'] = 'display_data';\n",
              "        await google.colab.output.renderOutput(dataTable, element);\n",
              "        const docLink = document.createElement('div');\n",
              "        docLink.innerHTML = docLinkHtml;\n",
              "        element.appendChild(docLink);\n",
              "      }\n",
              "    </script>\n",
              "  </div>\n",
              "\n",
              "\n",
              "<div id=\"df-6c72d816-9d2c-421f-84d9-f0d816a1cec1\">\n",
              "  <button class=\"colab-df-quickchart\" onclick=\"quickchart('df-6c72d816-9d2c-421f-84d9-f0d816a1cec1')\"\n",
              "            title=\"Suggest charts\"\n",
              "            style=\"display:none;\">\n",
              "\n",
              "<svg xmlns=\"http://www.w3.org/2000/svg\" height=\"24px\"viewBox=\"0 0 24 24\"\n",
              "     width=\"24px\">\n",
              "    <g>\n",
              "        <path d=\"M19 3H5c-1.1 0-2 .9-2 2v14c0 1.1.9 2 2 2h14c1.1 0 2-.9 2-2V5c0-1.1-.9-2-2-2zM9 17H7v-7h2v7zm4 0h-2V7h2v10zm4 0h-2v-4h2v4z\"/>\n",
              "    </g>\n",
              "</svg>\n",
              "  </button>\n",
              "\n",
              "<style>\n",
              "  .colab-df-quickchart {\n",
              "      --bg-color: #E8F0FE;\n",
              "      --fill-color: #1967D2;\n",
              "      --hover-bg-color: #E2EBFA;\n",
              "      --hover-fill-color: #174EA6;\n",
              "      --disabled-fill-color: #AAA;\n",
              "      --disabled-bg-color: #DDD;\n",
              "  }\n",
              "\n",
              "  [theme=dark] .colab-df-quickchart {\n",
              "      --bg-color: #3B4455;\n",
              "      --fill-color: #D2E3FC;\n",
              "      --hover-bg-color: #434B5C;\n",
              "      --hover-fill-color: #FFFFFF;\n",
              "      --disabled-bg-color: #3B4455;\n",
              "      --disabled-fill-color: #666;\n",
              "  }\n",
              "\n",
              "  .colab-df-quickchart {\n",
              "    background-color: var(--bg-color);\n",
              "    border: none;\n",
              "    border-radius: 50%;\n",
              "    cursor: pointer;\n",
              "    display: none;\n",
              "    fill: var(--fill-color);\n",
              "    height: 32px;\n",
              "    padding: 0;\n",
              "    width: 32px;\n",
              "  }\n",
              "\n",
              "  .colab-df-quickchart:hover {\n",
              "    background-color: var(--hover-bg-color);\n",
              "    box-shadow: 0 1px 2px rgba(60, 64, 67, 0.3), 0 1px 3px 1px rgba(60, 64, 67, 0.15);\n",
              "    fill: var(--button-hover-fill-color);\n",
              "  }\n",
              "\n",
              "  .colab-df-quickchart-complete:disabled,\n",
              "  .colab-df-quickchart-complete:disabled:hover {\n",
              "    background-color: var(--disabled-bg-color);\n",
              "    fill: var(--disabled-fill-color);\n",
              "    box-shadow: none;\n",
              "  }\n",
              "\n",
              "  .colab-df-spinner {\n",
              "    border: 2px solid var(--fill-color);\n",
              "    border-color: transparent;\n",
              "    border-bottom-color: var(--fill-color);\n",
              "    animation:\n",
              "      spin 1s steps(1) infinite;\n",
              "  }\n",
              "\n",
              "  @keyframes spin {\n",
              "    0% {\n",
              "      border-color: transparent;\n",
              "      border-bottom-color: var(--fill-color);\n",
              "      border-left-color: var(--fill-color);\n",
              "    }\n",
              "    20% {\n",
              "      border-color: transparent;\n",
              "      border-left-color: var(--fill-color);\n",
              "      border-top-color: var(--fill-color);\n",
              "    }\n",
              "    30% {\n",
              "      border-color: transparent;\n",
              "      border-left-color: var(--fill-color);\n",
              "      border-top-color: var(--fill-color);\n",
              "      border-right-color: var(--fill-color);\n",
              "    }\n",
              "    40% {\n",
              "      border-color: transparent;\n",
              "      border-right-color: var(--fill-color);\n",
              "      border-top-color: var(--fill-color);\n",
              "    }\n",
              "    60% {\n",
              "      border-color: transparent;\n",
              "      border-right-color: var(--fill-color);\n",
              "    }\n",
              "    80% {\n",
              "      border-color: transparent;\n",
              "      border-right-color: var(--fill-color);\n",
              "      border-bottom-color: var(--fill-color);\n",
              "    }\n",
              "    90% {\n",
              "      border-color: transparent;\n",
              "      border-bottom-color: var(--fill-color);\n",
              "    }\n",
              "  }\n",
              "</style>\n",
              "\n",
              "  <script>\n",
              "    async function quickchart(key) {\n",
              "      const quickchartButtonEl =\n",
              "        document.querySelector('#' + key + ' button');\n",
              "      quickchartButtonEl.disabled = true;  // To prevent multiple clicks.\n",
              "      quickchartButtonEl.classList.add('colab-df-spinner');\n",
              "      try {\n",
              "        const charts = await google.colab.kernel.invokeFunction(\n",
              "            'suggestCharts', [key], {});\n",
              "      } catch (error) {\n",
              "        console.error('Error during call to suggestCharts:', error);\n",
              "      }\n",
              "      quickchartButtonEl.classList.remove('colab-df-spinner');\n",
              "      quickchartButtonEl.classList.add('colab-df-quickchart-complete');\n",
              "    }\n",
              "    (() => {\n",
              "      let quickchartButtonEl =\n",
              "        document.querySelector('#df-6c72d816-9d2c-421f-84d9-f0d816a1cec1 button');\n",
              "      quickchartButtonEl.style.display =\n",
              "        google.colab.kernel.accessAllowed ? 'block' : 'none';\n",
              "    })();\n",
              "  </script>\n",
              "</div>\n",
              "    </div>\n",
              "  </div>\n"
            ],
            "text/plain": [
              "          Date      Open      High       Low     Close  Adj Close  Volume\n",
              "0   2000-01-03  0.936384  1.004464  0.907924  0.999442   0.847207       1\n",
              "1   2000-01-04  0.966518  0.987723  0.903460  0.915179   0.775779       1\n",
              "2   2000-01-05  0.926339  0.987165  0.919643  0.928571   0.787131       1\n",
              "3   2000-01-06  0.947545  0.955357  0.848214  0.848214   0.719014       1\n",
              "4   2000-01-07  0.861607  0.901786  0.852679  0.888393   0.753073       1\n",
              "5   2000-01-10  0.910714  0.912946  0.845982  0.872768   0.739828       1\n",
              "6   2000-01-11  0.856585  0.887277  0.808036  0.828125   0.701985       1\n",
              "7   2000-01-12  0.848214  0.852679  0.772321  0.778460   0.659885       1\n",
              "8   2000-01-13  0.843610  0.881696  0.825893  0.863839   0.732259       1\n",
              "9   2000-01-14  0.892857  0.912946  0.887277  0.896763   0.760168       0\n",
              "10  2000-01-18  0.901786  0.946429  0.896763  0.928013   0.786658       1\n",
              "11  2000-01-19  0.943080  0.970982  0.922991  0.951451   0.806526       1\n",
              "12  2000-01-20  1.031250  1.084821  1.013393  1.013393   0.859033       1\n",
              "13  2000-01-21  1.020089  1.020089  0.983817  0.993862   0.842477       1\n",
              "14  2000-01-24  0.968192  1.006696  0.938616  0.948661   0.804161       1\n",
              "15  2000-01-25  0.937500  1.010045  0.914063  1.002232   0.849572       1\n",
              "16  2000-01-26  0.982143  1.019531  0.979911  0.983817   0.833962       0\n",
              "17  2000-01-27  0.971540  1.008929  0.955357  0.982143   0.832543       0\n",
              "18  2000-01-28  0.965960  0.989955  0.898438  0.907366   0.769156       1\n",
              "19  2000-01-31  0.901786  0.927455  0.843750  0.926339   0.785239       1\n",
              "20  2000-02-01  0.928571  0.937500  0.892857  0.895089   0.758749       0\n",
              "21  2000-02-02  0.899554  0.911830  0.866071  0.882254   0.747869       1\n",
              "22  2000-02-03  0.895647  0.930804  0.895089  0.922433   0.781928       1\n",
              "23  2000-02-04  0.928013  0.982143  0.925223  0.964286   0.817406       1\n",
              "24  2000-02-07  0.964286  1.020089  0.945871  1.018415   0.863290       1\n",
              "25  2000-02-08  1.017857  1.036830  0.993304  1.025670   0.869440       1\n",
              "26  2000-02-09  1.018973  1.045759  1.003906  1.005580   0.852410       0\n",
              "27  2000-02-10  1.007813  1.016741  0.982143  1.013393   0.859033       0\n",
              "28  2000-02-11  1.014509  1.018973  0.966518  0.970982   0.823082       0\n",
              "29  2000-02-14  0.976004  1.034598  0.969866  1.034040   0.876535       0\n",
              "30  2000-02-15  1.029018  1.070871  1.028460  1.062500   0.900659       1\n",
              "31  2000-02-16  1.051339  1.054688  1.001116  1.018973   0.863763       0\n",
              "32  2000-02-17  1.028460  1.031250  1.010045  1.025670   0.869440       0\n",
              "33  2000-02-18  1.023438  1.030134  0.989955  0.993304   0.842004       0\n",
              "34  2000-02-22  0.983259  1.044085  0.952567  1.016183   0.861398       1\n",
              "35  2000-02-23  1.011021  1.062500  0.991071  1.037946   0.879846       1\n",
              "36  2000-02-24  1.047433  1.063616  0.997768  1.028599   0.871923       0\n",
              "37  2000-02-25  1.025112  1.044643  0.983259  0.985491   0.835381       0\n",
              "38  2000-02-28  0.983259  1.026786  0.967634  1.011161   0.857141       0\n",
              "39  2000-02-29  1.013951  1.046875  1.005022  1.023438   0.867548       0"
            ]
          },
          "execution_count": 20,
          "metadata": {},
          "output_type": "execute_result"
        }
      ],
      "source": [
        "# Informa a URL de importação do dataset\n",
        "url = \"https://raw.githubusercontent.com/vitaledu/dataset_MVP_SI_AAPL_ML/main/AAPL.csv\"\n",
        "\n",
        "# Lê o arquivo\n",
        "dataset = pd.read_csv(url, delimiter=',')\n",
        "\n",
        "def normalize(value):\n",
        "    if value > 400623065:\n",
        "        return 1\n",
        "    else:\n",
        "        return 0\n",
        "\n",
        "# Aplicar a função à coluna de número 6 do dataset\n",
        "dataset.iloc[:, 6] = dataset.iloc[:, 6].apply(normalize)\n",
        "\n",
        "# Remove as linhas com valores NaN\n",
        "dataset = dataset.dropna()\n",
        "\n",
        "# Mostra as primeiras linhas do dataset\n",
        "dataset.head(40)"
      ]
    },
    {
      "cell_type": "markdown",
      "metadata": {
        "id": "mE4-PIaTAfKX"
      },
      "source": [
        "## Separação em conjunto de treino e conjunto de teste com holdout"
      ]
    },
    {
      "cell_type": "code",
      "execution_count": null,
      "metadata": {
        "colab": {
          "base_uri": "https://localhost:8080/"
        },
        "id": "fEiAm3LEAfPt",
        "outputId": "ac0531cf-ec13-4b17-d22d-30be76bc70ed"
      },
      "outputs": [
        {
          "name": "stdout",
          "output_type": "stream",
          "text": [
            "Valores de entrada X:\n",
            "[[0.936384 1.004464 0.907924 0.999442 0.847207]\n",
            " [0.966518 0.987723 0.90346 0.915179 0.775779]\n",
            " [0.926339 0.987165 0.919643 0.928571 0.787131]\n",
            " ...\n",
            " [190.330002 191.559998 189.229996 191.240005 191.240005]\n",
            " [189.979996 190.050003 187.449997 189.429993 189.429993]\n",
            " [190.210007 194.399994 190.179993 193.419998 193.419998]]\n",
            "\n",
            "Valores de saída y:\n",
            "[1. 1. 1. ... 0. 0. 0.]\n"
          ]
        }
      ],
      "source": [
        "test_size = 0.20 # tamanho do conjunto de teste\n",
        "seed = 7 # semente aleatória\n",
        "\n",
        "# Separação em conjuntos de treino e teste\n",
        "array = dataset.values\n",
        "\n",
        "# Entrada\n",
        "X = array[:,1:6] # Todas as colunas exceto a primeira\n",
        "# Saida\n",
        "y = array[:,6] # Coluna 7\n",
        "y = y.astype(float)\n",
        "\n",
        "print(\"Valores de entrada X:\")\n",
        "print(X)\n",
        "\n",
        "print(\"\\nValores de saída y:\")\n",
        "print(y)\n",
        "\n",
        "X_train, X_test, y_train, y_test = train_test_split(X, y,\n",
        "    test_size=test_size, shuffle=True, random_state=seed, stratify=y) # holdout com estratificação\n",
        "\n",
        "# Parâmetros e partições da validação cruzada\n",
        "scoring = 'accuracy'\n",
        "num_particoes = 10\n",
        "kfold = StratifiedKFold(n_splits=num_particoes, shuffle=True, random_state=seed) # validação cruzada com estratificação"
      ]
    },
    {
      "cell_type": "markdown",
      "metadata": {
        "id": "f2OGe0DtAfU4"
      },
      "source": [
        "## Modelagem e Inferência"
      ]
    },
    {
      "cell_type": "markdown",
      "metadata": {
        "id": "pwHzQpbX9QQh"
      },
      "source": [
        "### Criação e avaliação de modelos: linha base"
      ]
    },
    {
      "cell_type": "code",
      "execution_count": null,
      "metadata": {
        "colab": {
          "base_uri": "https://localhost:8080/",
          "height": 999
        },
        "id": "eAhfSnnIAfke",
        "outputId": "839d417a-c565-4898-bbeb-218a46b61425"
      },
      "outputs": [
        {
          "name": "stdout",
          "output_type": "stream",
          "text": [
            "KNN: 0.870222 (0.012359)\n",
            "CART: 0.846767 (0.012816)\n",
            "NB: 0.747307 (0.017328)\n",
            "SVM: 0.751046 (0.021482)\n"
          ]
        },
        {
          "data": {
            "image/png": "[encoded data removed]",
            "text/plain": [
              "<Figure size 1500x1000 with 1 Axes>"
            ]
          },
          "metadata": {},
          "output_type": "display_data"
        }
      ],
      "source": [
        "np.random.seed(7) # definindo uma semente global\n",
        "\n",
        "# Lista que armazenará os modelos\n",
        "models = []\n",
        "\n",
        "# Criando os modelos e adicionando-os na lista de modelos\n",
        "models.append(('KNN', KNeighborsClassifier()))\n",
        "models.append(('CART', DecisionTreeClassifier()))\n",
        "models.append(('NB', GaussianNB()))\n",
        "models.append(('SVM', SVC()))\n",
        "\n",
        "# Listas para armazenar os resultados\n",
        "results = []\n",
        "names = []\n",
        "\n",
        "# Avaliação dos modelos\n",
        "for name, model in models:\n",
        "    cv_results = cross_val_score(model, X_train, y_train, cv=kfold, scoring=scoring)\n",
        "    results.append(cv_results)\n",
        "    names.append(name)\n",
        "    msg = \"%s: %f (%f)\" % (name, cv_results.mean(), cv_results.std())\n",
        "    print(msg)\n",
        "\n",
        "# Boxplot de comparação dos modelos\n",
        "fig = plt.figure(figsize=(15,10))\n",
        "fig.suptitle('Comparação dos Modelos')\n",
        "ax = fig.add_subplot(111)\n",
        "plt.boxplot(results)\n",
        "ax.set_xticklabels(names)\n",
        "plt.show()"
      ]
    },
    {
      "cell_type": "markdown",
      "metadata": {
        "id": "olo7SPk2BvvW"
      },
      "source": [
        "### Criação e avaliação de modelos: dados padronizados e normalizados"
      ]
    },
    {
      "cell_type": "code",
      "execution_count": null,
      "metadata": {
        "colab": {
          "base_uri": "https://localhost:8080/",
          "height": 787
        },
        "id": "hmQbiYQdBRDW",
        "outputId": "51fc41a3-6bb2-4a93-af56-63f6beaddb66"
      },
      "outputs": [
        {
          "name": "stdout",
          "output_type": "stream",
          "text": [
            "KNN-orig: 0.870 (0.012)\n",
            "CART-orig: 0.847 (0.013)\n",
            "NB-orig: 0.747 (0.017)\n",
            "SVM-orig: 0.751 (0.021)\n",
            "KNN-padr: 0.870 (0.013)\n",
            "CART-padr: 0.843 (0.017)\n",
            "NB-padr: 0.747 (0.017)\n",
            "SVM-padr: 0.751 (0.021)\n",
            "KNN-norm: 0.870 (0.012)\n",
            "CART-norm: 0.844 (0.012)\n",
            "NB-norm: 0.747 (0.017)\n",
            "SVM-norm: 0.751 (0.021)\n"
          ]
        },
        {
          "data": {
            "image/png": "[encoded data removed]",
            "text/plain": [
              "<Figure size 2500x600 with 1 Axes>"
            ]
          },
          "metadata": {},
          "output_type": "display_data"
        }
      ],
      "source": [
        "np.random.seed(7) # definindo uma semente global para este bloco\n",
        "\n",
        "# Listas para armazenar os armazenar os pipelines e os resultados para todas as visões do dataset\n",
        "pipelines = []\n",
        "results = []\n",
        "names = []\n",
        "\n",
        "\n",
        "# Criando os elementos do pipeline\n",
        "\n",
        "# Algoritmos que serão utilizados\n",
        "knn = ('KNN', KNeighborsClassifier())\n",
        "cart = ('CART', DecisionTreeClassifier())\n",
        "naive_bayes = ('NB', GaussianNB())\n",
        "svm = ('SVM', SVC())\n",
        "\n",
        "# Transformações que serão utilizadas\n",
        "standard_scaler = ('StandardScaler', StandardScaler())\n",
        "min_max_scaler = ('MinMaxScaler', MinMaxScaler())\n",
        "\n",
        "\n",
        "# Montando os pipelines\n",
        "\n",
        "# Dataset original\n",
        "pipelines.append(('KNN-orig', Pipeline([knn])))\n",
        "pipelines.append(('CART-orig', Pipeline([cart])))\n",
        "pipelines.append(('NB-orig', Pipeline([naive_bayes])))\n",
        "pipelines.append(('SVM-orig', Pipeline([svm])))\n",
        "\n",
        "# Dataset Padronizado\n",
        "pipelines.append(('KNN-padr', Pipeline([standard_scaler, knn])))\n",
        "pipelines.append(('CART-padr', Pipeline([standard_scaler, cart])))\n",
        "pipelines.append(('NB-padr', Pipeline([standard_scaler, naive_bayes])))\n",
        "pipelines.append(('SVM-padr', Pipeline([standard_scaler, svm])))\n",
        "\n",
        "# Dataset Normalizadochrome-extension://mcgbeeipkmelnpldkobichboakdfaeon/images/logo-vertical.svg\n",
        "pipelines.append(('KNN-norm', Pipeline([min_max_scaler, knn])))\n",
        "pipelines.append(('CART-norm', Pipeline([min_max_scaler, cart])))\n",
        "pipelines.append(('NB-norm', Pipeline([min_max_scaler, naive_bayes])))\n",
        "pipelines.append(('SVM-norm', Pipeline([min_max_scaler, svm])))\n",
        "\n",
        "# Executando os pipelines\n",
        "for name, model in pipelines:\n",
        "    cv_results = cross_val_score(model, X_train, y_train, cv=kfold, scoring=scoring)\n",
        "    results.append(cv_results)\n",
        "    names.append(name)\n",
        "    msg = \"%s: %.3f (%.3f)\" % (name, cv_results.mean(), cv_results.std()) # formatando para 3 casas decimais\n",
        "    print(msg)\n",
        "\n",
        "# Boxplot de comparação dos modelos\n",
        "fig = plt.figure(figsize=(25,6))\n",
        "fig.suptitle('Comparação dos Modelos - Dataset orginal, padronizado e normalizado')\n",
        "ax = fig.add_subplot(111)\n",
        "plt.boxplot(results)\n",
        "ax.set_xticklabels(names, rotation=90)\n",
        "plt.show()"
      ]
    },
    {
      "cell_type": "markdown",
      "metadata": {
        "id": "f-f2vCU5CMmp"
      },
      "source": [
        "### Otimização dos hiperparâmetros"
      ]
    },
    {
      "cell_type": "code",
      "execution_count": null,
      "metadata": {
        "colab": {
          "base_uri": "https://localhost:8080/"
        },
        "id": "jBSDgpXNt1Fp",
        "outputId": "62e8cdc3-8c6f-456e-a617-acdbfa272206"
      },
      "outputs": [
        {
          "name": "stdout",
          "output_type": "stream",
          "text": [
            "Sem tratamento de missings: knn-orig - Melhor: 0.875831 usando {'KNN__metric': 'manhattan', 'KNN__n_neighbors': 3}\n",
            "Sem tratamento de missings: knn-padr - Melhor: 0.875416 usando {'KNN__metric': 'manhattan', 'KNN__n_neighbors': 3}\n",
            "Sem tratamento de missings: knn-norm - Melhor: 0.875416 usando {'KNN__metric': 'manhattan', 'KNN__n_neighbors': 3}\n"
          ]
        }
      ],
      "source": [
        "# Tuning do KNN\n",
        "\n",
        "np.random.seed(7) # definindo uma semente global para este bloco\n",
        "\n",
        "pipelines = []\n",
        "\n",
        "# Definindo os componentes do pipeline\n",
        "knn = ('KNN', KNeighborsClassifier())\n",
        "standard_scaler = ('StandardScaler', StandardScaler())\n",
        "min_max_scaler = ('MinMaxScaler', MinMaxScaler())\n",
        "\n",
        "pipelines.append(('knn-orig', Pipeline(steps=[knn])))\n",
        "pipelines.append(('knn-padr', Pipeline(steps=[standard_scaler, knn])))\n",
        "pipelines.append(('knn-norm', Pipeline(steps=[min_max_scaler, knn])))\n",
        "\n",
        "param_grid = {\n",
        "    'KNN__n_neighbors': [1,3,5,7,9,11,13,15,17,19,21],\n",
        "    'KNN__metric': [\"euclidean\", \"manhattan\", \"minkowski\"],\n",
        "}\n",
        "\n",
        "# Prepara e executa o GridSearchCV\n",
        "for name, model in pipelines:\n",
        "    grid = GridSearchCV(estimator=model, param_grid=param_grid, scoring=scoring, cv=kfold)\n",
        "    grid.fit(X_train, y_train)\n",
        "    # imprime a melhor configuração\n",
        "    print(\"Sem tratamento de missings: %s - Melhor: %f usando %s\" % (name, grid.best_score_, grid.best_params_))"
      ]
    },
    {
      "cell_type": "markdown",
      "metadata": {
        "id": "cuUpaYcwDRDt"
      },
      "source": [
        "## Finalização do Modelo"
      ]
    },
    {
      "cell_type": "code",
      "execution_count": null,
      "metadata": {
        "colab": {
          "base_uri": "https://localhost:8080/"
        },
        "id": "lbrFxAbSDVIj",
        "outputId": "157407ab-ecb7-4db1-df62-d0cfa1b32da9"
      },
      "outputs": [
        {
          "name": "stdout",
          "output_type": "stream",
          "text": [
            "0.8712624584717608\n"
          ]
        }
      ],
      "source": [
        "# Avaliação do modelo com o conjunto de testes\n",
        "\n",
        "# Preparação do modelo\n",
        "scaler = StandardScaler().fit(X_train) # ajuste do scaler com o conjunto de treino\n",
        "rescaledX = scaler.transform(X_train) # aplicação da padronização no conjunto de treino\n",
        "model = KNeighborsClassifier(metric='manhattan', n_neighbors=3)\n",
        "model.fit(rescaledX, y_train)\n",
        "\n",
        "# Estimativa da acurácia no conjunto de teste\n",
        "rescaledTestX = scaler.transform(X_test) # aplicação da padronização no conjunto de teste\n",
        "predictions = model.predict(rescaledTestX)\n",
        "print(accuracy_score(y_test, predictions))"
      ]
    },
    {
      "cell_type": "code",
      "execution_count": null,
      "metadata": {
        "colab": {
          "base_uri": "https://localhost:8080/",
          "height": 75
        },
        "id": "iGeQHmeg4ziu",
        "outputId": "def24762-ef4d-471b-87dc-a423e72d01ca"
      },
      "outputs": [
        {
          "data": {
            "text/html": [
              "<style>#sk-container-id-5 {color: black;background-color: white;}#sk-container-id-5 pre{padding: 0;}#sk-container-id-5 div.sk-toggleable {background-color: white;}#sk-container-id-5 label.sk-toggleable__label {cursor: pointer;display: block;width: 100%;margin-bottom: 0;padding: 0.3em;box-sizing: border-box;text-align: center;}#sk-container-id-5 label.sk-toggleable__label-arrow:before {content: \"▸\";float: left;margin-right: 0.25em;color: #696969;}#sk-container-id-5 label.sk-toggleable__label-arrow:hover:before {color: black;}#sk-container-id-5 div.sk-estimator:hover label.sk-toggleable__label-arrow:before {color: black;}#sk-container-id-5 div.sk-toggleable__content {max-height: 0;max-width: 0;overflow: hidden;text-align: left;background-color: #f0f8ff;}#sk-container-id-5 div.sk-toggleable__content pre {margin: 0.2em;color: black;border-radius: 0.25em;background-color: #f0f8ff;}#sk-container-id-5 input.sk-toggleable__control:checked~div.sk-toggleable__content {max-height: 200px;max-width: 100%;overflow: auto;}#sk-container-id-5 input.sk-toggleable__control:checked~label.sk-toggleable__label-arrow:before {content: \"▾\";}#sk-container-id-5 div.sk-estimator input.sk-toggleable__control:checked~label.sk-toggleable__label {background-color: #d4ebff;}#sk-container-id-5 div.sk-label input.sk-toggleable__control:checked~label.sk-toggleable__label {background-color: #d4ebff;}#sk-container-id-5 input.sk-hidden--visually {border: 0;clip: rect(1px 1px 1px 1px);clip: rect(1px, 1px, 1px, 1px);height: 1px;margin: -1px;overflow: hidden;padding: 0;position: absolute;width: 1px;}#sk-container-id-5 div.sk-estimator {font-family: monospace;background-color: #f0f8ff;border: 1px dotted black;border-radius: 0.25em;box-sizing: border-box;margin-bottom: 0.5em;}#sk-container-id-5 div.sk-estimator:hover {background-color: #d4ebff;}#sk-container-id-5 div.sk-parallel-item::after {content: \"\";width: 100%;border-bottom: 1px solid gray;flex-grow: 1;}#sk-container-id-5 div.sk-label:hover label.sk-toggleable__label {background-color: #d4ebff;}#sk-container-id-5 div.sk-serial::before {content: \"\";position: absolute;border-left: 1px solid gray;box-sizing: border-box;top: 0;bottom: 0;left: 50%;z-index: 0;}#sk-container-id-5 div.sk-serial {display: flex;flex-direction: column;align-items: center;background-color: white;padding-right: 0.2em;padding-left: 0.2em;position: relative;}#sk-container-id-5 div.sk-item {position: relative;z-index: 1;}#sk-container-id-5 div.sk-parallel {display: flex;align-items: stretch;justify-content: center;background-color: white;position: relative;}#sk-container-id-5 div.sk-item::before, #sk-container-id-5 div.sk-parallel-item::before {content: \"\";position: absolute;border-left: 1px solid gray;box-sizing: border-box;top: 0;bottom: 0;left: 50%;z-index: -1;}#sk-container-id-5 div.sk-parallel-item {display: flex;flex-direction: column;z-index: 1;position: relative;background-color: white;}#sk-container-id-5 div.sk-parallel-item:first-child::after {align-self: flex-end;width: 50%;}#sk-container-id-5 div.sk-parallel-item:last-child::after {align-self: flex-start;width: 50%;}#sk-container-id-5 div.sk-parallel-item:only-child::after {width: 0;}#sk-container-id-5 div.sk-dashed-wrapped {border: 1px dashed gray;margin: 0 0.4em 0.5em 0.4em;box-sizing: border-box;padding-bottom: 0.4em;background-color: white;}#sk-container-id-5 div.sk-label label {font-family: monospace;font-weight: bold;display: inline-block;line-height: 1.2em;}#sk-container-id-5 div.sk-label-container {text-align: center;}#sk-container-id-5 div.sk-container {/* jupyter's `normalize.less` sets `[hidden] { display: none; }` but bootstrap.min.css set `[hidden] { display: none !important; }` so we also need the `!important` here to be able to override the default hidden behavior on the sphinx rendered scikit-learn.org. See: https://github.com/scikit-learn/scikit-learn/issues/21755 */display: inline-block !important;position: relative;}#sk-container-id-5 div.sk-text-repr-fallback {display: none;}</style><div id=\"sk-container-id-5\" class=\"sk-top-container\"><div class=\"sk-text-repr-fallback\"><pre>KNeighborsClassifier(metric=&#x27;manhattan&#x27;, n_neighbors=3)</pre><b>In a Jupyter environment, please rerun this cell to show the HTML representation or trust the notebook. <br />On GitHub, the HTML representation is unable to render, please try loading this page with nbviewer.org.</b></div><div class=\"sk-container\" hidden><div class=\"sk-item\"><div class=\"sk-estimator sk-toggleable\"><input class=\"sk-toggleable__control sk-hidden--visually\" id=\"sk-estimator-id-5\" type=\"checkbox\" checked><label for=\"sk-estimator-id-5\" class=\"sk-toggleable__label sk-toggleable__label-arrow\">KNeighborsClassifier</label><div class=\"sk-toggleable__content\"><pre>KNeighborsClassifier(metric=&#x27;manhattan&#x27;, n_neighbors=3)</pre></div></div></div></div></div>"
            ],
            "text/plain": [
              "KNeighborsClassifier(metric='manhattan', n_neighbors=3)"
            ]
          },
          "execution_count": 38,
          "metadata": {},
          "output_type": "execute_result"
        }
      ],
      "source": [
        "# Preparação do modelo com TODO o dataset\n",
        "scaler = StandardScaler().fit(X) # ajuste do scaler com TODO o dataset\n",
        "rescaledX = scaler.transform(X) # aplicação da padronização com TODO o dataset\n",
        "model.fit(rescaledX, y)"
      ]
    },
    {
      "cell_type": "markdown",
      "metadata": {
        "id": "xZ-FQWZj_OtQ"
      },
      "source": [
        "## Simulando a aplicação do modelo em dados não vistos"
      ]
    },
    {
      "cell_type": "code",
      "execution_count": null,
      "metadata": {
        "colab": {
          "base_uri": "https://localhost:8080/"
        },
        "id": "JAIp6d9w5QG8",
        "outputId": "1e92ce17-a701-4913-a82e-938b3560129c"
      },
      "outputs": [
        {
          "name": "stdout",
          "output_type": "stream",
          "text": [
            "[[-0.69264462 -0.69226097 -0.69344568 -0.69331183 -0.67155678]\n",
            " [-0.68221826 -0.68218117 -0.68227166 -0.68208772 -0.66200162]\n",
            " [-0.6997248  -0.69965647 -0.69970448 -0.69932325 -0.67717955]]\n"
          ]
        }
      ],
      "source": [
        "# Novos dados - não sabemos a classe!\n",
        "\n",
        "data = {'Open':  [0.503348, 1.028460, 0.146763],\n",
        "        'High': [0.517857, 1.031250, 0.141183],\n",
        "        'Low': [0.453125, 1.010045, 0.141183],\n",
        "        'Close': [0.459821, 1.025670, 0.156763],\n",
        "        'Adj Close': [0.389781, 0.869440, 0.107524]\n",
        "        }\n",
        "\n",
        "atributos = ['Open', 'High', 'Low', 'Close', 'Adj Close']\n",
        "entrada = pd.DataFrame(data, columns=atributos)\n",
        "\n",
        "array_entrada = entrada.values\n",
        "X_entrada = array_entrada[:,0:5].astype(float)  # Seleciona todas as 6 colunas\n",
        "\n",
        "# Padronização nos dados de entrada usando o scaler utilizado em X\n",
        "rescaledEntradaX = scaler.transform(X_entrada)\n",
        "print(rescaledEntradaX)"
      ]
    },
    {
      "cell_type": "code",
      "execution_count": null,
      "metadata": {
        "colab": {
          "base_uri": "https://localhost:8080/"
        },
        "id": "nQf_VFWy5Qsm",
        "outputId": "23dbeb4c-96c9-49a1-a9fb-23b527919a0a"
      },
      "outputs": [
        {
          "name": "stdout",
          "output_type": "stream",
          "text": [
            "[1. 0. 1.]\n"
          ]
        }
      ],
      "source": [
        "# Predição de classes dos dados de entrada\n",
        "saidas = model.predict(rescaledEntradaX)\n",
        "print(saidas)"
      ]
    },
    {
      "cell_type": "markdown",
      "metadata": {
        "id": "qcCdjIrFOPIk"
      },
      "source": [
        "**Fazendo o download do arquivo pkl**"
      ]
    },
    {
      "cell_type": "code",
      "execution_count": null,
      "metadata": {
        "colab": {
          "base_uri": "https://localhost:8080/",
          "height": 17
        },
        "id": "vIfzSohClGu1",
        "outputId": "440659ff-f44d-4a76-8950-fce9cef0b138"
      },
      "outputs": [
        {
          "data": {
            "application/javascript": "\n    async function download(id, filename, size) {\n      if (!google.colab.kernel.accessAllowed) {\n        return;\n      }\n      const div = document.createElement('div');\n      const label = document.createElement('label');\n      label.textContent = `Downloading \"${filename}\": `;\n      div.appendChild(label);\n      const progress = document.createElement('progress');\n      progress.max = size;\n      div.appendChild(progress);\n      document.body.appendChild(div);\n\n      const buffers = [];\n      let downloaded = 0;\n\n      const channel = await google.colab.kernel.comms.open(id);\n      // Send a message to notify the kernel that we're ready.\n      channel.send({})\n\n      for await (const message of channel.messages) {\n        // Send a message to notify the kernel that we're ready.\n        channel.send({})\n        if (message.buffers) {\n          for (const buffer of message.buffers) {\n            buffers.push(buffer);\n            downloaded += buffer.byteLength;\n            progress.value = downloaded;\n          }\n        }\n      }\n      const blob = new Blob(buffers, {type: 'application/binary'});\n      const a = document.createElement('a');\n      a.href = window.URL.createObjectURL(blob);\n      a.download = filename;\n      div.appendChild(a);\n      a.click();\n      div.remove();\n    }\n  ",
            "text/plain": [
              "<IPython.core.display.Javascript object>"
            ]
          },
          "metadata": {},
          "output_type": "display_data"
        },
        {
          "data": {
            "application/javascript": "download(\"download_0167335f-80d8-4a55-b8df-4a18208bf5e2\", \"classificador.pkl\", 366843)",
            "text/plain": [
              "<IPython.core.display.Javascript object>"
            ]
          },
          "metadata": {},
          "output_type": "display_data"
        }
      ],
      "source": [
        "import pickle\n",
        "from google.colab import files\n",
        "\n",
        "# Salvar o modelo usando pickle\n",
        "with open('apple_knn.pkl', 'wb') as pickle_out:\n",
        "    pickle.dump(model, pickle_out)\n",
        "\n",
        "# Baixar o arquivo para o ambiente local\n",
        "files.download('apple_knn.pkl')"
      ]
    },
    {
      "cell_type": "markdown",
      "metadata": {
        "id": "v-lhecA3Ofuq"
      },
      "source": [
        "**Fazendo o download do arquivo joblib**"
      ]
    },
    {
      "cell_type": "code",
      "execution_count": null,
      "metadata": {
        "colab": {
          "base_uri": "https://localhost:8080/",
          "height": 17
        },
        "id": "k5D-vr4eVHWU",
        "outputId": "4578068c-e2ed-4981-b31d-9540c7d0cedb"
      },
      "outputs": [
        {
          "data": {
            "application/javascript": "\n    async function download(id, filename, size) {\n      if (!google.colab.kernel.accessAllowed) {\n        return;\n      }\n      const div = document.createElement('div');\n      const label = document.createElement('label');\n      label.textContent = `Downloading \"${filename}\": `;\n      div.appendChild(label);\n      const progress = document.createElement('progress');\n      progress.max = size;\n      div.appendChild(progress);\n      document.body.appendChild(div);\n\n      const buffers = [];\n      let downloaded = 0;\n\n      const channel = await google.colab.kernel.comms.open(id);\n      // Send a message to notify the kernel that we're ready.\n      channel.send({})\n\n      for await (const message of channel.messages) {\n        // Send a message to notify the kernel that we're ready.\n        channel.send({})\n        if (message.buffers) {\n          for (const buffer of message.buffers) {\n            buffers.push(buffer);\n            downloaded += buffer.byteLength;\n            progress.value = downloaded;\n          }\n        }\n      }\n      const blob = new Blob(buffers, {type: 'application/binary'});\n      const a = document.createElement('a');\n      a.href = window.URL.createObjectURL(blob);\n      a.download = filename;\n      div.appendChild(a);\n      a.click();\n      div.remove();\n    }\n  ",
            "text/plain": [
              "<IPython.core.display.Javascript object>"
            ]
          },
          "metadata": {},
          "output_type": "display_data"
        },
        {
          "data": {
            "application/javascript": "download(\"download_deb6c7ac-080e-495e-b851-415331982c47\", \"scaler.joblib\", 719)",
            "text/plain": [
              "<IPython.core.display.Javascript object>"
            ]
          },
          "metadata": {},
          "output_type": "display_data"
        }
      ],
      "source": [
        "import pandas as pd\n",
        "from sklearn.preprocessing import StandardScaler\n",
        "from joblib import dump\n",
        "\n",
        "# Seus dados de treinamento\n",
        "data = {'Open':  [0.513345, 0.125568, 0.146763],\n",
        "        'High': [0.617857, 0.124487, 0.141283],\n",
        "        'Low': [0.453125, 0.123464, 0.141483],\n",
        "        'Close': [0.754821, 0.146531, 0.156763],\n",
        "        'Adj Close': [0.583781, 0.095591, 0.107324]\n",
        "        }\n",
        "\n",
        "atributos = ['Open', 'High', 'Low', 'Close', 'Adj Close']\n",
        "entrada = pd.DataFrame(data, columns=atributos)\n",
        "\n",
        "# Extrair as features\n",
        "New_X_train = entrada.values.astype(float)\n",
        "\n",
        "# Inicializar o StandardScaler\n",
        "scaler = StandardScaler()\n",
        "\n",
        "# Ajustar o scaler aos dados de treinamento e transformar os dados\n",
        "X_train_scaled = scaler.fit_transform(New_X_train)\n",
        "\n",
        "# Salvar o scaler em um arquivo\n",
        "dump(scaler, 'scaler.joblib')\n",
        "\n",
        "# Fazer o download do arquivo\n",
        "files.download('scaler.joblib')"
      ]
    },
    {
      "cell_type": "markdown",
      "metadata": {
        "id": "sZ4sKoIAVjOK"
      },
      "source": [
        "**Regressão Linear**"
      ]
    },
    {
      "cell_type": "code",
      "execution_count": null,
      "metadata": {
        "id": "bxIdgv20VoA1"
      },
      "outputs": [],
      "source": [
        "import pandas as pd\n",
        "from sklearn import datasets\n",
        "from sklearn.linear_model import LogisticRegression\n",
        "from sklearn.model_selection import train_test_split\n",
        "from pickle import dump\n",
        "from pickle import load"
      ]
    },
    {
      "cell_type": "code",
      "execution_count": null,
      "metadata": {
        "colab": {
          "base_uri": "https://localhost:8080/",
          "height": 75
        },
        "id": "y3S0luzFVqTR",
        "outputId": "3b76fcdd-8af6-43d2-9915-2f02e64eb64b"
      },
      "outputs": [
        {
          "data": {
            "text/html": [
              "<style>#sk-container-id-6 {color: black;background-color: white;}#sk-container-id-6 pre{padding: 0;}#sk-container-id-6 div.sk-toggleable {background-color: white;}#sk-container-id-6 label.sk-toggleable__label {cursor: pointer;display: block;width: 100%;margin-bottom: 0;padding: 0.3em;box-sizing: border-box;text-align: center;}#sk-container-id-6 label.sk-toggleable__label-arrow:before {content: \"▸\";float: left;margin-right: 0.25em;color: #696969;}#sk-container-id-6 label.sk-toggleable__label-arrow:hover:before {color: black;}#sk-container-id-6 div.sk-estimator:hover label.sk-toggleable__label-arrow:before {color: black;}#sk-container-id-6 div.sk-toggleable__content {max-height: 0;max-width: 0;overflow: hidden;text-align: left;background-color: #f0f8ff;}#sk-container-id-6 div.sk-toggleable__content pre {margin: 0.2em;color: black;border-radius: 0.25em;background-color: #f0f8ff;}#sk-container-id-6 input.sk-toggleable__control:checked~div.sk-toggleable__content {max-height: 200px;max-width: 100%;overflow: auto;}#sk-container-id-6 input.sk-toggleable__control:checked~label.sk-toggleable__label-arrow:before {content: \"▾\";}#sk-container-id-6 div.sk-estimator input.sk-toggleable__control:checked~label.sk-toggleable__label {background-color: #d4ebff;}#sk-container-id-6 div.sk-label input.sk-toggleable__control:checked~label.sk-toggleable__label {background-color: #d4ebff;}#sk-container-id-6 input.sk-hidden--visually {border: 0;clip: rect(1px 1px 1px 1px);clip: rect(1px, 1px, 1px, 1px);height: 1px;margin: -1px;overflow: hidden;padding: 0;position: absolute;width: 1px;}#sk-container-id-6 div.sk-estimator {font-family: monospace;background-color: #f0f8ff;border: 1px dotted black;border-radius: 0.25em;box-sizing: border-box;margin-bottom: 0.5em;}#sk-container-id-6 div.sk-estimator:hover {background-color: #d4ebff;}#sk-container-id-6 div.sk-parallel-item::after {content: \"\";width: 100%;border-bottom: 1px solid gray;flex-grow: 1;}#sk-container-id-6 div.sk-label:hover label.sk-toggleable__label {background-color: #d4ebff;}#sk-container-id-6 div.sk-serial::before {content: \"\";position: absolute;border-left: 1px solid gray;box-sizing: border-box;top: 0;bottom: 0;left: 50%;z-index: 0;}#sk-container-id-6 div.sk-serial {display: flex;flex-direction: column;align-items: center;background-color: white;padding-right: 0.2em;padding-left: 0.2em;position: relative;}#sk-container-id-6 div.sk-item {position: relative;z-index: 1;}#sk-container-id-6 div.sk-parallel {display: flex;align-items: stretch;justify-content: center;background-color: white;position: relative;}#sk-container-id-6 div.sk-item::before, #sk-container-id-6 div.sk-parallel-item::before {content: \"\";position: absolute;border-left: 1px solid gray;box-sizing: border-box;top: 0;bottom: 0;left: 50%;z-index: -1;}#sk-container-id-6 div.sk-parallel-item {display: flex;flex-direction: column;z-index: 1;position: relative;background-color: white;}#sk-container-id-6 div.sk-parallel-item:first-child::after {align-self: flex-end;width: 50%;}#sk-container-id-6 div.sk-parallel-item:last-child::after {align-self: flex-start;width: 50%;}#sk-container-id-6 div.sk-parallel-item:only-child::after {width: 0;}#sk-container-id-6 div.sk-dashed-wrapped {border: 1px dashed gray;margin: 0 0.4em 0.5em 0.4em;box-sizing: border-box;padding-bottom: 0.4em;background-color: white;}#sk-container-id-6 div.sk-label label {font-family: monospace;font-weight: bold;display: inline-block;line-height: 1.2em;}#sk-container-id-6 div.sk-label-container {text-align: center;}#sk-container-id-6 div.sk-container {/* jupyter's `normalize.less` sets `[hidden] { display: none; }` but bootstrap.min.css set `[hidden] { display: none !important; }` so we also need the `!important` here to be able to override the default hidden behavior on the sphinx rendered scikit-learn.org. See: https://github.com/scikit-learn/scikit-learn/issues/21755 */display: inline-block !important;position: relative;}#sk-container-id-6 div.sk-text-repr-fallback {display: none;}</style><div id=\"sk-container-id-6\" class=\"sk-top-container\"><div class=\"sk-text-repr-fallback\"><pre>LogisticRegression(solver=&#x27;liblinear&#x27;)</pre><b>In a Jupyter environment, please rerun this cell to show the HTML representation or trust the notebook. <br />On GitHub, the HTML representation is unable to render, please try loading this page with nbviewer.org.</b></div><div class=\"sk-container\" hidden><div class=\"sk-item\"><div class=\"sk-estimator sk-toggleable\"><input class=\"sk-toggleable__control sk-hidden--visually\" id=\"sk-estimator-id-6\" type=\"checkbox\" checked><label for=\"sk-estimator-id-6\" class=\"sk-toggleable__label sk-toggleable__label-arrow\">LogisticRegression</label><div class=\"sk-toggleable__content\"><pre>LogisticRegression(solver=&#x27;liblinear&#x27;)</pre></div></div></div></div></div>"
            ],
            "text/plain": [
              "LogisticRegression(solver='liblinear')"
            ]
          },
          "execution_count": 47,
          "metadata": {},
          "output_type": "execute_result"
        }
      ],
      "source": [
        "# Cria o modelo\n",
        "modelo = LogisticRegression(solver='liblinear')\n",
        "\n",
        "# Treina o modelo\n",
        "modelo.fit(X_train, y_train)"
      ]
    },
    {
      "cell_type": "code",
      "execution_count": null,
      "metadata": {
        "id": "-CAZW9jXVrzg"
      },
      "outputs": [],
      "source": [
        "# Salva o modelo no disco\n",
        "filename = 'apple_lr.pkl'\n",
        "dump(modelo, open(filename, 'wb'))"
      ]
    },
    {
      "cell_type": "markdown",
      "metadata": {
        "id": "SazMcRDdVxAJ"
      },
      "source": [
        "**Carrega o modelo**"
      ]
    },
    {
      "cell_type": "code",
      "execution_count": null,
      "metadata": {
        "colab": {
          "base_uri": "https://localhost:8080/"
        },
        "id": "na3WSpqlVxzB",
        "outputId": "4b2ba61c-1a6b-4815-efc6-d79a56e84d2e"
      },
      "outputs": [
        {
          "name": "stdout",
          "output_type": "stream",
          "text": [
            "0.803156146179402\n"
          ]
        }
      ],
      "source": [
        "# Algum tempo depois...\n",
        "# Carrega o modelo do disco\n",
        "loaded_model = load(open(filename, 'rb'))\n",
        "result = loaded_model.score(X_test, y_test)\n",
        "print(result)"
      ]
    },
    {
      "cell_type": "code",
      "execution_count": null,
      "metadata": {
        "colab": {
          "base_uri": "https://localhost:8080/",
          "height": 17
        },
        "id": "wbSTXr--VzcX",
        "outputId": "30e4a260-ba14-490e-9e7d-dae95b69fa40"
      },
      "outputs": [
        {
          "data": {
            "application/javascript": "\n    async function download(id, filename, size) {\n      if (!google.colab.kernel.accessAllowed) {\n        return;\n      }\n      const div = document.createElement('div');\n      const label = document.createElement('label');\n      label.textContent = `Downloading \"${filename}\": `;\n      div.appendChild(label);\n      const progress = document.createElement('progress');\n      progress.max = size;\n      div.appendChild(progress);\n      document.body.appendChild(div);\n\n      const buffers = [];\n      let downloaded = 0;\n\n      const channel = await google.colab.kernel.comms.open(id);\n      // Send a message to notify the kernel that we're ready.\n      channel.send({})\n\n      for await (const message of channel.messages) {\n        // Send a message to notify the kernel that we're ready.\n        channel.send({})\n        if (message.buffers) {\n          for (const buffer of message.buffers) {\n            buffers.push(buffer);\n            downloaded += buffer.byteLength;\n            progress.value = downloaded;\n          }\n        }\n      }\n      const blob = new Blob(buffers, {type: 'application/binary'});\n      const a = document.createElement('a');\n      a.href = window.URL.createObjectURL(blob);\n      a.download = filename;\n      div.appendChild(a);\n      a.click();\n      div.remove();\n    }\n  ",
            "text/plain": [
              "<IPython.core.display.Javascript object>"
            ]
          },
          "metadata": {},
          "output_type": "display_data"
        },
        {
          "data": {
            "application/javascript": "download(\"download_00f4c0b9-7d6c-4a3f-965d-3fe690e4d70f\", \"apple_lr.pkl\", 718)",
            "text/plain": [
              "<IPython.core.display.Javascript object>"
            ]
          },
          "metadata": {},
          "output_type": "display_data"
        }
      ],
      "source": [
        "# Baixar o arquivo para o ambiente local\n",
        "files.download('apple_lr.pkl')"
      ]
    },
    {
      "cell_type": "markdown",
      "metadata": {},
      "source": [
        "Notebook para gerar os modelos knn, lr e joblib\n",
        "O Dataset é carregado e recebe um modelo onde o valor de negociação acima da média de ações é alterado para 1 e abaixo para 0.\n",
        "Exemplo:\n",
        "\n",
        "Valores de entrada X:\n",
        "\n",
        "```\n",
        "Date\t         Open\t       Low       High\t    Low\tClose\tAdj Close\n",
        "8\t2000-01-13\t0.843610\t0.881696\t0.825893\t0.863839\t0.732259\t1\n",
        "9\t2000-01-14\t0.892857\t0.912946\t0.887277\t0.896763\t0.760168\t0\n",
        "10\t2000-01-18\t0.901786\t0.946429\t0.896763\t0.928013\t0.786658\t1\n",
        "11\t2000-01-19\t0.943080\t0.970982\t0.922991\t0.951451\t0.806526\t1\n",
        "12\t2000-01-20\t1.031250\t1.084821\t1.013393\t1.013393\t0.859033\t1\n",
        "13\t2000-01-21\t1.020089\t1.020089\t0.983817\t0.993862\t0.842477\t1\n",
        "14\t2000-01-24\t0.968192\t1.006696\t0.938616\t0.948661\t0.804161\t1\n",
        "15\t2000-01-25\t0.937500\t1.010045\t0.914063\t1.002232\t0.849572\t1\n",
        "16\t2000-01-26\t0.982143\t1.019531\t0.979911\t0.983817\t0.833962\t0\n",
        "17\t2000-01-27\t0.971540\t1.008929\t0.955357\t0.982143\t0.832543\t0\n",
        "18\t2000-01-28\t0.965960\t0.989955\t0.898438\t0.907366\t0.769156\t1\n",
        "```\n",
        "\n",
        "Valores de saída y:\n",
        "\n",
        "```\n",
        "[1 0 1 ... 0 0 1]\n",
        "```\n",
        "\n",
        "Os dados são analisados e normalizados com 87% de acurácia utilizando KNN.\n",
        "\n",
        "Na otimização de hiperparametros foi identificado que utilizando KNN com n_neighbors': 3 conseguiriamos uma % melhor, subindo quase 1%.\n",
        "\n",
        "Resumo de análise dos modelos:\n",
        "\n",
        "KNN-orig: 0.870 (0.012)\n",
        "CART-orig: 0.847 (0.013)\n",
        "NB-orig: 0.747 (0.017)\n",
        "SVM-orig: 0.751 (0.021)\n",
        "KNN-padr: 0.870 (0.013)\n",
        "CART-padr: 0.843 (0.017)\n",
        "NB-padr: 0.747 (0.017)\n",
        "SVM-padr: 0.751 (0.021)\n",
        "KNN-norm: 0.870 (0.012)\n",
        "CART-norm: 0.844 (0.012)\n",
        "NB-norm: 0.747 (0.017)\n",
        "SVM-norm: 0.751 (0.021)\n",
        "\n",
        "Todos os modelos treinados estão disponíveis para download."
      ]
    }
  ],
  "metadata": {
    "colab": {
      "provenance": []
    },
    "kernelspec": {
      "display_name": "Python 3",
      "name": "python3"
    }
  },
  "nbformat": 4,
  "nbformat_minor": 0
}
